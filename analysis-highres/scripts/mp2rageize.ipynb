{
 "cells": [
  {
   "cell_type": "code",
   "execution_count": 1,
   "id": "906a6d0d-44a4-4a98-8b24-c783be7ed969",
   "metadata": {},
   "outputs": [],
   "source": [
    "from nipype.interfaces import spm\n",
    "from nipype.interfaces import matlab\n",
    "from nipype.interfaces import cat12\n",
    "from nipype.interfaces.freesurfer import ApplyVolTransform, ApplyMask\n",
    "import nipype.pipeline.engine as pe\n",
    "import nibabel as nib\n",
    "import numpy as np\n",
    "import os\n",
    "from dicom2nifty import Siemens_BuildNifti"
   ]
  },
  {
   "cell_type": "code",
   "execution_count": 2,
   "id": "d29b9972-99c6-4ec8-b207-85ec46e3173b",
   "metadata": {},
   "outputs": [],
   "source": [
    "dicom_dir = '/data/pt_02900/realtime_export/20240402.40135.5a.40135.5a'\n",
    "result_dir = '/data/pt_02900/analysis-highres/data/sub-57/anat'\n",
    "series_no = dict(uni=18,inv2= 16)\n",
    "nifti_files = dict()"
   ]
  },
  {
   "cell_type": "code",
   "execution_count": 3,
   "id": "bff5bcea-0aba-4284-853f-c5d79c4bc907",
   "metadata": {},
   "outputs": [
    {
     "name": "stdout",
     "output_type": "stream",
     "text": [
      "Nifti image dims: (192, 300, 320)\n",
      "Image saved at: /data/pt_02900/analysis-highres/data/sub-57/anat/uni.nii\n",
      "Nifti image dims: (192, 300, 320)\n",
      "Image saved at: /data/pt_02900/analysis-highres/data/sub-57/anat/inv2.nii\n"
     ]
    }
   ],
   "source": [
    "#First convert the dicom files to NIFTI\n",
    "for key,val in series_no.items():    \n",
    "    niftiBuilder = Siemens_BuildNifti(dicom_dir, val)\n",
    "    output_path = os.path.join(result_dir,f'{key}.nii')\n",
    "    niftiBuilder.write_nifti(output_path)\n",
    "    nifti_files[key] = output_path"
   ]
  },
  {
   "cell_type": "code",
   "execution_count": 4,
   "id": "9640eea2-393e-4f04-8231-e0569b1dc40b",
   "metadata": {},
   "outputs": [],
   "source": [
    "spm_path = '/afs/cbs.mpg.de/software/scripts/spm'\n",
    "matlab.MatlabCommand.set_default_paths(spm_path)\n",
    "tpm_template = \"/data/pt_02900/Neurofeedback/templates/TPM.nii\""
   ]
  },
  {
   "cell_type": "code",
   "execution_count": 5,
   "id": "06b4400c-d60a-40ee-ba29-7c58321e98b3",
   "metadata": {},
   "outputs": [],
   "source": [
    "def load_niimg(niimg):\n",
    "    if type(niimg) is str:\n",
    "        return nib.load(niimg)\n",
    "    else:\n",
    "        return niimg\n",
    "\n",
    "def normalize(niimg_in,out_file=None):\n",
    "    niimg_in = load_niimg(niimg_in)\n",
    "    data = niimg_in.get_fdata()\n",
    "    data_norm = (data-np.min(data))/(np.max(data)-np.min(data))\n",
    "    niimg_out = nib.Nifti1Image(data_norm,niimg_in.affine,niimg_in.header)\n",
    "    if out_file:\n",
    "        nib.save(niimg_out,out_file)\n",
    "    return niimg_out\n",
    "\n",
    "def multiply(niimg_in1, niimg_in2, out_file=None):\n",
    "    niimg_in1 = load_niimg(niimg_in1)\n",
    "    niimg_in2 = load_niimg(niimg_in2)\n",
    "    data1 = niimg_in1.get_fdata()\n",
    "    data2 = niimg_in2.get_fdata()\n",
    "    data_mult = data1 * data2\n",
    "    niimg_out = nib.Nifti1Image(data_mult,niimg_in1.affine,niimg_in1.header)\n",
    "    if out_file:\n",
    "        nib.save(niimg_out,out_file)\n",
    "    return niimg_out\n",
    "\n",
    "\n",
    "def mprageize(inv2_file, uni_file, out_file=None):\n",
    "    \"\"\" \n",
    "    Based on Sri Kashyap (https://github.com/srikash/presurfer/blob/main/func/presurf_MPRAGEise.m)\n",
    "    \"\"\"\n",
    "    \n",
    "    # bias correct INV2\n",
    "    seg = spm.NewSegment()\n",
    "    seg.inputs.channel_files = inv2_file\n",
    "    seg.inputs.channel_info = (0.001, 30, (False, True))\n",
    "    tissue1 = ((tpm_template, 1), 2, (False,False), (False, False))\n",
    "    tissue2 = ((tpm_template, 2), 2, (False,False), (False, False))\n",
    "    tissue3 = ((tpm_template, 3), 2, (False,False), (False, False))\n",
    "    tissue4 = ((tpm_template, 4), 3, (False,False), (False, False))\n",
    "    tissue5 = ((tpm_template, 5), 4, (False,False), (False, False))\n",
    "    tissue6 = ((tpm_template, 6), 2, (False,False), (False, False))\n",
    "    seg.inputs.tissues = [tissue1, tissue2, tissue3, tissue4, tissue5, tissue6]    \n",
    "    seg.inputs.affine_regularization = 'mni'\n",
    "    seg.inputs.sampling_distance = 3\n",
    "    seg.inputs.warping_regularization = [0, 0.001, 0.5, 0.05, 0.2]\n",
    "    seg.inputs.write_deformation_fields = [False, False]\n",
    "    seg_results = seg.run(cwd=os.path.dirname(os.path.abspath(inv2_file)))\n",
    "    \n",
    "    # normalize bias corrected INV2\n",
    "    norm_inv2_niimg = normalize(seg_results.outputs.bias_corrected_images)\n",
    "                              \n",
    "    # multiply normalized bias corrected INV2 with UNI\n",
    "    uni_mprageized_niimg = multiply(norm_inv2_niimg,uni_file)\n",
    "\n",
    "    if out_file:\n",
    "        nib.save(uni_mprageized_niimg,out_file)\n",
    "    return uni_mprageized_niimg"
   ]
  },
  {
   "cell_type": "code",
   "execution_count": 7,
   "id": "f52dc9f6-479a-456f-aa49-9b54c4be2c03",
   "metadata": {},
   "outputs": [
    {
     "name": "stderr",
     "output_type": "stream",
     "text": [
      "stty: 'standard input': Inappropriate ioctl for device\n",
      "stty: 'standard input': Inappropriate ioctl for device\n"
     ]
    }
   ],
   "source": [
    "res = mprageize(nifti_files['inv2'],nifti_files['uni'],os.path.join(result_dir,'anat.nii'))"
   ]
  },
  {
   "cell_type": "code",
   "execution_count": null,
   "id": "60b4c64e-c665-47ad-8f46-7d321fe61e46",
   "metadata": {},
   "outputs": [],
   "source": []
  }
 ],
 "metadata": {
  "kernelspec": {
   "display_name": "Python 3 (ipykernel)",
   "language": "python",
   "name": "python3"
  },
  "language_info": {
   "codemirror_mode": {
    "name": "ipython",
    "version": 3
   },
   "file_extension": ".py",
   "mimetype": "text/x-python",
   "name": "python",
   "nbconvert_exporter": "python",
   "pygments_lexer": "ipython3",
   "version": "3.9.18"
  }
 },
 "nbformat": 4,
 "nbformat_minor": 5
}
