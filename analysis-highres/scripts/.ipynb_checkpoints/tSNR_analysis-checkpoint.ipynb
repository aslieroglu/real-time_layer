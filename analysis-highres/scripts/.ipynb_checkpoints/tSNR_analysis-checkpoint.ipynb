{
 "cells": [
  {
   "cell_type": "code",
   "execution_count": 1,
   "id": "53801059-7e41-4ae5-8970-2986d491a6b9",
   "metadata": {},
   "outputs": [
    {
     "name": "stderr",
     "output_type": "stream",
     "text": [
      "/data/pt_02900/analysis-highres/scripts/dicom2nifty.py:15: UserWarning: The DICOM readers are highly experimental, unstable, and only work for Siemens time-series at the moment\n",
      "Please use with caution.  We would be grateful for your help in improving them\n",
      "  from nibabel.nicom import dicomreaders\n"
     ]
    }
   ],
   "source": [
    "import sys\n",
    "import subprocess\n",
    "import glob\n",
    "import os\n",
    "import pandas as pd\n",
    "import numpy as np\n",
    "from scipy import signal\n",
    "import matplotlib.pyplot as plt\n",
    "import shutil\n",
    "\n",
    "\n",
    "import nibabel as nib\n",
    "from fsl.wrappers import flirt, mcflirt, LOAD, fslmaths\n",
    "from nipype import Workflow, Node\n",
    "from nipype.interfaces import fsl as fsl\n",
    "from nipype.interfaces import afni as afni\n",
    "from nipype.algorithms.confounds import TSNR\n",
    "\n",
    "from dicom2nifty import Siemens_BuildNifti"
   ]
  },
  {
   "cell_type": "code",
   "execution_count": 2,
   "id": "759f11fc-2435-40ab-ba67-85abbbaf2a6f",
   "metadata": {},
   "outputs": [
    {
     "data": {
      "text/html": [
       "<div>\n",
       "<style scoped>\n",
       "    .dataframe tbody tr th:only-of-type {\n",
       "        vertical-align: middle;\n",
       "    }\n",
       "\n",
       "    .dataframe tbody tr th {\n",
       "        vertical-align: top;\n",
       "    }\n",
       "\n",
       "    .dataframe thead th {\n",
       "        text-align: right;\n",
       "    }\n",
       "</style>\n",
       "<table border=\"1\" class=\"dataframe\">\n",
       "  <thead>\n",
       "    <tr style=\"text-align: right;\">\n",
       "      <th></th>\n",
       "      <th>sub</th>\n",
       "      <th>dicom_dir</th>\n",
       "      <th>low_res_full</th>\n",
       "      <th>high_res_full</th>\n",
       "      <th>high_res_slab</th>\n",
       "    </tr>\n",
       "  </thead>\n",
       "  <tbody>\n",
       "    <tr>\n",
       "      <th>0</th>\n",
       "      <td>sub-57</td>\n",
       "      <td>/data/pt_02900/realtime_export/20240402.40135....</td>\n",
       "      <td>0</td>\n",
       "      <td>7</td>\n",
       "      <td>8</td>\n",
       "    </tr>\n",
       "    <tr>\n",
       "      <th>1</th>\n",
       "      <td>27993.cb</td>\n",
       "      <td>/data/pt_02900/realtime_export/20240302.27993....</td>\n",
       "      <td>7</td>\n",
       "      <td>11</td>\n",
       "      <td>12</td>\n",
       "    </tr>\n",
       "  </tbody>\n",
       "</table>\n",
       "</div>"
      ],
      "text/plain": [
       "        sub                                          dicom_dir  low_res_full  \\\n",
       "0    sub-57  /data/pt_02900/realtime_export/20240402.40135....             0   \n",
       "1  27993.cb  /data/pt_02900/realtime_export/20240302.27993....             7   \n",
       "\n",
       "   high_res_full  high_res_slab  \n",
       "0              7              8  \n",
       "1             11             12  "
      ]
     },
     "execution_count": 2,
     "metadata": {},
     "output_type": "execute_result"
    }
   ],
   "source": [
    "datafile = 'data_tSNR.txt'\n",
    "datasrc = pd.read_csv(datafile)\n",
    "datasrc"
   ]
  },
  {
   "cell_type": "code",
   "execution_count": 3,
   "id": "58b3ccc8-9751-4ce2-b1b1-0a98a0f64ce9",
   "metadata": {},
   "outputs": [],
   "source": [
    "results_dir = \"/data/pt_02900/analysis-highres/results/tsnr_analysis\""
   ]
  },
  {
   "cell_type": "code",
   "execution_count": 4,
   "id": "88c3d621-667a-4e8f-80e9-8ef46ee30c54",
   "metadata": {},
   "outputs": [],
   "source": [
    "#convert dicom series to NIFTY\n",
    "def convert_series_to_nifty(row):\n",
    "    #print(row)\n",
    "    subj = row['sub']\n",
    "    dicom_dir = row['dicom_dir']\n",
    "    for s_typ in ['low_res_full','high_res_full','high_res_slab']:\n",
    "        if row[s_typ] != 0:\n",
    "            niftiBuilder = Siemens_BuildNifti(dicom_dir,row[s_typ])\n",
    "            output_path = os.path.join(results_dir,f'{subj}_{s_typ}.nii')\n",
    "            niftiBuilder.write_nifti(output_path)\n",
    "            print(f'{subj} {s_typ} file: {output_path}')\n",
    " "
   ]
  },
  {
   "cell_type": "code",
   "execution_count": 5,
   "id": "c8611fb0-735e-4092-9358-79b910b48f79",
   "metadata": {},
   "outputs": [
    {
     "name": "stdout",
     "output_type": "stream",
     "text": [
      "Image saved at: /data/pt_02900/analysis-highres/results/tsnr_analysis/sub-57_high_res_full.nii\n",
      "sub-57 high_res_full file: /data/pt_02900/analysis-highres/results/tsnr_analysis/sub-57_high_res_full.nii\n",
      "Image saved at: /data/pt_02900/analysis-highres/results/tsnr_analysis/sub-57_high_res_slab.nii\n",
      "sub-57 high_res_slab file: /data/pt_02900/analysis-highres/results/tsnr_analysis/sub-57_high_res_slab.nii\n",
      "Image saved at: /data/pt_02900/analysis-highres/results/tsnr_analysis/27993.cb_low_res_full.nii\n",
      "27993.cb low_res_full file: /data/pt_02900/analysis-highres/results/tsnr_analysis/27993.cb_low_res_full.nii\n",
      "Image saved at: /data/pt_02900/analysis-highres/results/tsnr_analysis/27993.cb_high_res_full.nii\n",
      "27993.cb high_res_full file: /data/pt_02900/analysis-highres/results/tsnr_analysis/27993.cb_high_res_full.nii\n",
      "Image saved at: /data/pt_02900/analysis-highres/results/tsnr_analysis/27993.cb_high_res_slab.nii\n",
      "27993.cb high_res_slab file: /data/pt_02900/analysis-highres/results/tsnr_analysis/27993.cb_high_res_slab.nii\n"
     ]
    },
    {
     "data": {
      "text/plain": [
       "0    None\n",
       "1    None\n",
       "dtype: object"
      ]
     },
     "execution_count": 5,
     "metadata": {},
     "output_type": "execute_result"
    }
   ],
   "source": [
    "datasrc.apply(convert_series_to_nifty,axis=1)"
   ]
  },
  {
   "cell_type": "markdown",
   "id": "8a486ca5-4f88-4f0b-abcc-10397c8b85e6",
   "metadata": {},
   "source": [
    "From main experiment, we have the MC base runs with the first 2 volumes removed, MC and averaged. The maks are built using this average MC volume as ref. So TSNR, get the MC volumes, align them with the reference volume. On that do the TSNR analysis.\n"
   ]
  },
  {
   "cell_type": "code",
   "execution_count": 46,
   "id": "6efe6e49-57c7-4989-9b1e-df5285b23928",
   "metadata": {},
   "outputs": [],
   "source": [
    "def calculate_tSNR_FSL(fname): #uses FSL\n",
    "    infile = nib.load(fname) #used only if the filename is supplied\n",
    "    mean = fslmaths(infile).Tmean().run()\n",
    "    std = fslmaths(infile).Tstd().run()\n",
    "    tsnr = fslmaths(mean).div(std).run()\n",
    "    return tsnr\n",
    "\n",
    "def calculate_tSNR_numpy(data): #usess numpy\n",
    "    mean = np.mean(data,axis=-1)\n",
    "    std = np.std(data,axis=-1)\n",
    "    #return np.where(std == 0, 0, mean/std)\n",
    "    #need to handle divide by zero when diving mean and std images to get tsnr matrix\n",
    "    tsnr = mean / std\n",
    "    tsnr[tsnr == np.inf] = np.nan\n",
    "    tsnr = np.nan_to_num(tsnr)\n",
    "    return tsnr\n"
   ]
  },
  {
   "cell_type": "code",
   "execution_count": 5,
   "id": "41f0bd2f-fe2c-4949-aa24-91727f5e1fa6",
   "metadata": {},
   "outputs": [],
   "source": [
    "data_dir = dict()\n",
    "data_dir['high_res'] = ['/data/pt_02900/analysis-highres/data/sub-57/proc','/data/pt_02900/analysis-highres/data/27993.cb/proc/highres']\n",
    "data_dir['low_res'] = ['/data/pt_02900/analysis-highres/data/27993.cb/proc/lowres']"
   ]
  },
  {
   "cell_type": "code",
   "execution_count": 47,
   "id": "539dee83-1a58-4f32-9c2b-b619d4a870cf",
   "metadata": {},
   "outputs": [
    {
     "name": "stdout",
     "output_type": "stream",
     "text": [
      "Processing High_Res scans. No. of directories: 2\n",
      "Input directory : /data/pt_02900/analysis-highres/data/sub-57/proc\n",
      "processing Full ...\n"
     ]
    },
    {
     "name": "stderr",
     "output_type": "stream",
     "text": [
      "/tmp/ipykernel_115465/171557052.py:13: RuntimeWarning: divide by zero encountered in divide\n",
      "  tsnr = mean / std\n",
      "/tmp/ipykernel_115465/171557052.py:13: RuntimeWarning: invalid value encountered in divide\n",
      "  tsnr = mean / std\n"
     ]
    },
    {
     "name": "stdout",
     "output_type": "stream",
     "text": [
      "processing Slab ...\n",
      "Input directory : /data/pt_02900/analysis-highres/data/27993.cb/proc/highres\n",
      "processing Full ...\n",
      "processing Slab ...\n",
      "Processing Low_Res scans. No. of directories: 1\n",
      "Input directory : /data/pt_02900/analysis-highres/data/27993.cb/proc/lowres\n",
      "processing Full ...\n",
      "Finished\n"
     ]
    }
   ],
   "source": [
    "masks_full = dict(gm='roi_gm.nii',deep='roi_layer1.nii',superficial='roi_layer2.nii')\n",
    "masks_slab = dict(gm='roi_gm_slab.nii',deep='roi_layer1_slab.nii',superficial='roi_layer2_slab.nii')\n",
    "results_dict = dict(high_res_full=dict(gm=[],deep=[],superficial=[]),\n",
    "                    high_res_slab=dict(gm=[],deep=[],superficial=[]),\n",
    "                    low_res_full=dict(gm=[],deep=[],superficial=[])\n",
    "                   )\n",
    "results_roi_first_dict = dict(high_res_full=dict(gm=[],deep=[],superficial=[]),\n",
    "                    high_res_slab=dict(gm=[],deep=[],superficial=[]),\n",
    "                    low_res_full=dict(gm=[],deep=[],superficial=[])\n",
    "                   )\n",
    "for res,files in data_dir.items():\n",
    "    if res == 'high_res':\n",
    "        choices = dict(full=masks_full,slab=masks_slab)\n",
    "    else:\n",
    "        choices = dict(full=masks_full)\n",
    "    print(f'Processing {res.title()} scans. No. of directories: {len(files)}')\n",
    "    for f_id, f in enumerate(files):\n",
    "        print(f'Input directory : {f}')\n",
    "        for scan_typ, mask_dict in choices.items():\n",
    "            print(f'processing {scan_typ.title()} ...')\n",
    "            basefile = os.path.join(f,'epi_mc_avg.nii') if scan_typ == 'full' else os.path.join(f,'epi_slab_ref.nii')\n",
    "            infile = os.path.join(f,'epi_base.nii') if scan_typ == 'full' else os.path.join(f,'epi_base_slab.nii')\n",
    "            volreg_outfile = os.path.join(results_dir,f'{res}_{scan_typ}_{f_id}_volreg.nii')\n",
    "            volreg_command = ['3dvolreg', '-prefix', volreg_outfile,\n",
    "                           '-base', basefile,\n",
    "                           '-Fourier', '-overwrite',\n",
    "                           infile\n",
    "                          ]\n",
    "            #subprocess.run(volreg_command, check=True)\n",
    "            volreg_img = nib.load(volreg_outfile)\n",
    "            volreg_data = volreg_img.get_fdata()\n",
    "            #detrend_outfile = os.path.join(results_dir,f'{res}_{scan_typ}_{f_id}_detrend.nii')\n",
    "            #detrend_command = ['3dDetrend', '-prefix', detrend_outfile, '-polort', '1', '-overwrite', volreg_outfile ]\n",
    "            #subprocess.run(detrend_command, check=True)\n",
    "            #Type1: Calulate TSNR first on the whole 4D dataset and then take the RoI averages\n",
    "            tsnr_whole_brain = calculate_tSNR_numpy(volreg_data)\n",
    "            for mask_typ,mask_file in mask_dict.items():\n",
    "                desc = f'{res}_{scan_typ}'\n",
    "                m_data = nib.load(os.path.join(f,mask_file)).get_fdata()\n",
    "                results_dict[desc][mask_typ].append(np.mean(tsnr_whole_brain[m_data > 0]))\n",
    "                #Type2: Extract the average RoI activation at every volume and then do tsnr calculation\n",
    "                masked_4d_data = volreg_data[m_data > 0]\n",
    "                avg_roi_4d = np.mean(masked_4d_data,axis=0)\n",
    "                tsnr_roi_only = np.mean(avg_roi_4d)/np.std(avg_roi_4d)\n",
    "                results_roi_first_dict[desc][mask_typ].append(tsnr_roi_only)\n",
    "            \n",
    "print('Finished')\n",
    "    "
   ]
  },
  {
   "cell_type": "code",
   "execution_count": 48,
   "id": "2d712923-57eb-4bc9-94ca-7974f4b264b6",
   "metadata": {},
   "outputs": [
    {
     "name": "stdout",
     "output_type": "stream",
     "text": [
      "High_Res_Full   Gm           tSNR: 18.33\n",
      "High_Res_Full   Deep         tSNR: 18.52\n",
      "High_Res_Full   Superficial  tSNR: 18.14\n",
      "High_Res_Slab   Gm           tSNR: 15.08\n",
      "High_Res_Slab   Deep         tSNR: 15.50\n",
      "High_Res_Slab   Superficial  tSNR: 14.99\n",
      "Low_Res_Full    Gm           tSNR: 63.70\n",
      "Low_Res_Full    Deep         tSNR: 72.01\n",
      "Low_Res_Full    Superficial  tSNR: 53.68\n"
     ]
    }
   ],
   "source": [
    "for scan_desc, values in results_dict.items():\n",
    "    for mask, tsnr in values.items():\n",
    "        print(f'{scan_desc.title():<15s} {mask.title():<12s} tSNR: {np.mean(tsnr):.2f}')"
   ]
  },
  {
   "cell_type": "code",
   "execution_count": 49,
   "id": "982ce14a-b1d3-4906-b138-a79007c73b2f",
   "metadata": {},
   "outputs": [
    {
     "name": "stdout",
     "output_type": "stream",
     "text": [
      "High_Res_Full   Gm           tSNR: 191.36\n",
      "High_Res_Full   Deep         tSNR: 307.84\n",
      "High_Res_Full   Superficial  tSNR: 142.85\n",
      "High_Res_Slab   Gm           tSNR: 194.38\n",
      "High_Res_Slab   Deep         tSNR: 244.60\n",
      "High_Res_Slab   Superficial  tSNR: 156.31\n",
      "Low_Res_Full    Gm           tSNR: 175.71\n",
      "Low_Res_Full    Deep         tSNR: 186.63\n",
      "Low_Res_Full    Superficial  tSNR: 153.70\n"
     ]
    }
   ],
   "source": [
    "for scan_desc, values in results_roi_first_dict.items():\n",
    "    for mask, tsnr in values.items():\n",
    "        print(f'{scan_desc.title():<15s} {mask.title():<12s} tSNR: {np.mean(tsnr):.2f}')"
   ]
  }
 ],
 "metadata": {
  "kernelspec": {
   "display_name": "Python 3 (ipykernel)",
   "language": "python",
   "name": "python3"
  },
  "language_info": {
   "codemirror_mode": {
    "name": "ipython",
    "version": 3
   },
   "file_extension": ".py",
   "mimetype": "text/x-python",
   "name": "python",
   "nbconvert_exporter": "python",
   "pygments_lexer": "ipython3",
   "version": "3.9.18"
  }
 },
 "nbformat": 4,
 "nbformat_minor": 5
}
